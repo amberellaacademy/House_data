{
 "cells": [
  {
   "cell_type": "markdown",
   "id": "916fb160-fc0e-4810-9603-32edad68d552",
   "metadata": {},
   "source": [
    "Python Notebook & Dataset: github.com/amberellaacademy/House_data\n",
    "\n",
    "Medium profile: https://medium.com/@amberellaacademy\n",
    "\n",
    "Slideshare: https://www.slideshare.net/amberellaacademy \n",
    "\n",
    "Email: amberellaacademy@gmail.com"
   ]
  },
  {
   "cell_type": "markdown",
   "id": "bc1035c4-d7b5-46ec-b63f-43911e06dd13",
   "metadata": {},
   "source": [
    "# Assessing the Stability and Performance of Linear and Polynomial Regression Models for House Price Prediction"
   ]
  },
  {
   "cell_type": "markdown",
   "id": "ea8b3992-551a-46c8-80f0-5ea4b509852a",
   "metadata": {},
   "source": [
    "## Introduction\n",
    "House prices prediction is a common application of regression analysis, providing valuable insights for real estate market analysis, investment decision-making, and policy formulation. This assignment aims to design and implement a comprehensive machine learning pipeline to predict house prices using linear and polynomial regression models, and to evaluate the stability and performance of these models.\n",
    "\n",
    "## Objectives\n",
    "\n",
    "1.\tTrain a Linear Regression Model:\r\n",
    "o\tDevelop a linear regression model to predict house prices based on a given set of independent variables.\r\n",
    "o\tAnalyze the beta coefficients and their significance.\r\n",
    "2.\tTrain Polynomial Regression Models:\r\n",
    "o\tDevelop three polynomial regression models with degrees 2, 3, and 4 to predict house prices.\r\n",
    "o\tCompare the complexity and fit of these models against the linear regression model.\r\n",
    "3.\tEvaluate Model Stability:\r\n",
    "o\tAssess the stability of each trained model by examining the variability of the inferred beta coefficients across different training data samples.\r\n",
    "o\tImplement techniques such as bootstrapping or cross-validation to evaluate coefficient sterfitting).\r\n",
    "rfitting).\r\n"
   ]
  },
  {
   "cell_type": "markdown",
   "id": "6745f86e-9caa-4d18-8f47-6a7920800c40",
   "metadata": {},
   "source": [
    "## Dataset used\n",
    "House_data.csv\n",
    "\n",
    "Downlaod link: https://github.com/amberellaacademy/House_data/blob/main/house_data.csv"
   ]
  },
  {
   "cell_type": "code",
   "execution_count": 44,
   "id": "61d01f8f-cc10-4add-b9e4-3c60ec5cf88c",
   "metadata": {},
   "outputs": [
    {
     "data": {
      "text/html": [
       "<div>\n",
       "<style scoped>\n",
       "    .dataframe tbody tr th:only-of-type {\n",
       "        vertical-align: middle;\n",
       "    }\n",
       "\n",
       "    .dataframe tbody tr th {\n",
       "        vertical-align: top;\n",
       "    }\n",
       "\n",
       "    .dataframe thead th {\n",
       "        text-align: right;\n",
       "    }\n",
       "</style>\n",
       "<table border=\"1\" class=\"dataframe\">\n",
       "  <thead>\n",
       "    <tr style=\"text-align: right;\">\n",
       "      <th></th>\n",
       "      <th>Rooms</th>\n",
       "      <th>Age</th>\n",
       "      <th>Distance</th>\n",
       "      <th>Accessibility</th>\n",
       "      <th>Tax</th>\n",
       "      <th>DisadvantagedPosition</th>\n",
       "      <th>Crime</th>\n",
       "      <th>NitricOxides</th>\n",
       "      <th>PupilTeacher</th>\n",
       "      <th>Residential</th>\n",
       "      <th>NonRetail</th>\n",
       "      <th>Price</th>\n",
       "    </tr>\n",
       "  </thead>\n",
       "  <tbody>\n",
       "    <tr>\n",
       "      <th>0</th>\n",
       "      <td>5.565</td>\n",
       "      <td>70.6</td>\n",
       "      <td>2.0635</td>\n",
       "      <td>24</td>\n",
       "      <td>666</td>\n",
       "      <td>17.16</td>\n",
       "      <td>8.79212</td>\n",
       "      <td>0.584</td>\n",
       "      <td>20.2</td>\n",
       "      <td>0.0</td>\n",
       "      <td>18.10</td>\n",
       "      <td>11.7</td>\n",
       "    </tr>\n",
       "    <tr>\n",
       "      <th>1</th>\n",
       "      <td>6.879</td>\n",
       "      <td>77.7</td>\n",
       "      <td>3.2721</td>\n",
       "      <td>8</td>\n",
       "      <td>307</td>\n",
       "      <td>9.93</td>\n",
       "      <td>0.62356</td>\n",
       "      <td>0.507</td>\n",
       "      <td>17.4</td>\n",
       "      <td>0.0</td>\n",
       "      <td>6.20</td>\n",
       "      <td>27.5</td>\n",
       "    </tr>\n",
       "    <tr>\n",
       "      <th>2</th>\n",
       "      <td>5.972</td>\n",
       "      <td>76.7</td>\n",
       "      <td>3.1025</td>\n",
       "      <td>4</td>\n",
       "      <td>304</td>\n",
       "      <td>9.97</td>\n",
       "      <td>0.34940</td>\n",
       "      <td>0.544</td>\n",
       "      <td>18.4</td>\n",
       "      <td>0.0</td>\n",
       "      <td>9.90</td>\n",
       "      <td>20.3</td>\n",
       "    </tr>\n",
       "    <tr>\n",
       "      <th>3</th>\n",
       "      <td>6.943</td>\n",
       "      <td>97.4</td>\n",
       "      <td>1.8773</td>\n",
       "      <td>5</td>\n",
       "      <td>403</td>\n",
       "      <td>4.59</td>\n",
       "      <td>1.22358</td>\n",
       "      <td>0.605</td>\n",
       "      <td>14.7</td>\n",
       "      <td>0.0</td>\n",
       "      <td>19.58</td>\n",
       "      <td>41.3</td>\n",
       "    </tr>\n",
       "    <tr>\n",
       "      <th>4</th>\n",
       "      <td>5.926</td>\n",
       "      <td>71.0</td>\n",
       "      <td>2.9084</td>\n",
       "      <td>24</td>\n",
       "      <td>666</td>\n",
       "      <td>18.13</td>\n",
       "      <td>15.57570</td>\n",
       "      <td>0.580</td>\n",
       "      <td>20.2</td>\n",
       "      <td>0.0</td>\n",
       "      <td>18.10</td>\n",
       "      <td>19.1</td>\n",
       "    </tr>\n",
       "  </tbody>\n",
       "</table>\n",
       "</div>"
      ],
      "text/plain": [
       "   Rooms   Age  Distance  Accessibility  Tax  DisadvantagedPosition     Crime  \\\n",
       "0  5.565  70.6    2.0635             24  666                  17.16   8.79212   \n",
       "1  6.879  77.7    3.2721              8  307                   9.93   0.62356   \n",
       "2  5.972  76.7    3.1025              4  304                   9.97   0.34940   \n",
       "3  6.943  97.4    1.8773              5  403                   4.59   1.22358   \n",
       "4  5.926  71.0    2.9084             24  666                  18.13  15.57570   \n",
       "\n",
       "   NitricOxides  PupilTeacher  Residential  NonRetail  Price  \n",
       "0         0.584          20.2          0.0      18.10   11.7  \n",
       "1         0.507          17.4          0.0       6.20   27.5  \n",
       "2         0.544          18.4          0.0       9.90   20.3  \n",
       "3         0.605          14.7          0.0      19.58   41.3  \n",
       "4         0.580          20.2          0.0      18.10   19.1  "
      ]
     },
     "execution_count": 44,
     "metadata": {},
     "output_type": "execute_result"
    }
   ],
   "source": [
    "## Importing necessary libraries\n",
    "\n",
    "import pandas as pd\n",
    "import numpy as np\n",
    "\n",
    "df=pd.read_csv('house_data.csv')\n",
    "df.head()"
   ]
  },
  {
   "cell_type": "markdown",
   "id": "5694356f-6053-479a-b118-9e56ad51e942",
   "metadata": {},
   "source": [
    "Rooms: The average number of rooms per dwelling.\n",
    "\n",
    "Age: The proportion of owner-occupied units built before 1940.\n",
    "\n",
    "Distance: The weighted distances to employment centers.\n",
    "\n",
    "Accessibility: An index measuring the accessibility to highways.\n",
    "\n",
    "Tax: The full-value property tax rate per $10,000.\n",
    "\n",
    "DisadvantagedPosition: The percentage of the population with lower socioeconomic status.\n",
    "\n",
    "Crime: The per capita crime rate.\n",
    "\n",
    "NitricOxides: The concentration of nitric oxides in parts per 10 million.\n",
    "\n",
    "PupilTeacher: The pupil-teacher ratio by town.\n",
    "\n",
    "Residential: The proportion of residential land zoned for lots over 25,000 square feet.\n",
    "\n",
    "NonRetail: The proportion of non-retail business acres per town.\n",
    "\n",
    "Price: The prices of houses in dollars."
   ]
  },
  {
   "cell_type": "code",
   "execution_count": 45,
   "id": "2104ea63-31ab-43fa-a2c9-9bc81c6a19a2",
   "metadata": {},
   "outputs": [
    {
     "name": "stdout",
     "output_type": "stream",
     "text": [
      "<class 'pandas.core.frame.DataFrame'>\n",
      "RangeIndex: 399 entries, 0 to 398\n",
      "Data columns (total 12 columns):\n",
      " #   Column                 Non-Null Count  Dtype  \n",
      "---  ------                 --------------  -----  \n",
      " 0   Rooms                  399 non-null    float64\n",
      " 1   Age                    399 non-null    float64\n",
      " 2   Distance               399 non-null    float64\n",
      " 3   Accessibility          399 non-null    int64  \n",
      " 4   Tax                    399 non-null    int64  \n",
      " 5   DisadvantagedPosition  399 non-null    float64\n",
      " 6   Crime                  399 non-null    float64\n",
      " 7   NitricOxides           399 non-null    float64\n",
      " 8   PupilTeacher           399 non-null    float64\n",
      " 9   Residential            399 non-null    float64\n",
      " 10  NonRetail              399 non-null    float64\n",
      " 11  Price                  399 non-null    float64\n",
      "dtypes: float64(10), int64(2)\n",
      "memory usage: 37.5 KB\n"
     ]
    }
   ],
   "source": [
    "## Checking pre-processing\n",
    "df.info()"
   ]
  },
  {
   "cell_type": "code",
   "execution_count": 46,
   "id": "d932ed29-797a-4106-b49b-ee9cd9783309",
   "metadata": {},
   "outputs": [
    {
     "data": {
      "text/plain": [
       "(399, 12)"
      ]
     },
     "execution_count": 46,
     "metadata": {},
     "output_type": "execute_result"
    }
   ],
   "source": [
    "## Checking the size of the dataset\n",
    "df.shape"
   ]
  },
  {
   "cell_type": "code",
   "execution_count": 47,
   "id": "d1cc8f59-1181-4bbd-bbea-23bacf19f6d1",
   "metadata": {},
   "outputs": [
    {
     "data": {
      "text/plain": [
       "Rooms                    0\n",
       "Age                      0\n",
       "Distance                 0\n",
       "Accessibility            0\n",
       "Tax                      0\n",
       "DisadvantagedPosition    0\n",
       "Crime                    0\n",
       "NitricOxides             0\n",
       "PupilTeacher             0\n",
       "Residential              0\n",
       "NonRetail                0\n",
       "Price                    0\n",
       "dtype: int64"
      ]
     },
     "execution_count": 47,
     "metadata": {},
     "output_type": "execute_result"
    }
   ],
   "source": [
    "## Checking for null values\n",
    "df.isnull().sum()"
   ]
  },
  {
   "cell_type": "markdown",
   "id": "012e6205-86ab-4384-934d-1f9196bd8da0",
   "metadata": {},
   "source": [
    "We conclude that there are no null values"
   ]
  },
  {
   "cell_type": "code",
   "execution_count": 48,
   "id": "156ea41c-3d42-4d32-8af4-5cb6bdaae4fd",
   "metadata": {},
   "outputs": [],
   "source": [
    "## Importing libraries"
   ]
  },
  {
   "cell_type": "code",
   "execution_count": 49,
   "id": "a2f12e11-3aba-4f23-a707-5e296aca4c5d",
   "metadata": {},
   "outputs": [],
   "source": [
    "import pandas as pd\n",
    "import numpy as np\n",
    "from sklearn.model_selection import train_test_split\n",
    "from sklearn.preprocessing import PolynomialFeatures\n",
    "from sklearn.linear_model import LinearRegression\n",
    "from sklearn.metrics import mean_squared_error, r2_score\n",
    "import matplotlib.pyplot as plt"
   ]
  },
  {
   "cell_type": "markdown",
   "id": "662cf047-b78e-45bc-9067-568cbb07c4d8",
   "metadata": {},
   "source": [
    "## Splitting the dataset"
   ]
  },
  {
   "cell_type": "code",
   "execution_count": 50,
   "id": "8907e7ec-8328-4c84-9267-6dd5df9f7fb6",
   "metadata": {},
   "outputs": [],
   "source": [
    "import pandas as pd\n",
    "from sklearn.model_selection import train_test_split\n",
    "from sklearn.linear_model import LinearRegression\n",
    "from sklearn.metrics import mean_squared_error, r2_score\n",
    "\n",
    "# Split the data into features and target\n",
    "X = df.drop('Price', axis=1)\n",
    "y = df['Price']\n",
    "\n",
    "# Split the data into training and testing sets\n",
    "X_train, X_test, y_train, y_test = train_test_split(X, y, test_size=0.2, random_state=42)"
   ]
  },
  {
   "cell_type": "markdown",
   "id": "a034651b-ade6-4e99-8c8c-d6d43b2bb317",
   "metadata": {},
   "source": [
    "## Objective 1: Training a linear regression model\n"
   ]
  },
  {
   "cell_type": "code",
   "execution_count": 51,
   "id": "badb7174-0d4a-4eaf-b98d-8ec4bca7e66d",
   "metadata": {},
   "outputs": [
    {
     "name": "stdout",
     "output_type": "stream",
     "text": [
      "Mean Squared Error: 20.39156767613866\n",
      "R-squared: 0.7489054841446292\n",
      "\n",
      "intercept: 44.41694811634814\n",
      "                       Coefficient\n",
      "Rooms                     3.500579\n",
      "Age                       0.002661\n",
      "Distance                 -1.384729\n",
      "Accessibility             0.265454\n",
      "Tax                      -0.011218\n",
      "DisadvantagedPosition    -0.642487\n",
      "Crime                    -0.123515\n",
      "NitricOxides            -16.602090\n",
      "PupilTeacher             -1.092543\n",
      "Residential               0.040321\n",
      "NonRetail                 0.072883\n"
     ]
    }
   ],
   "source": [
    "# Train the linear regression model\n",
    "model_linear = LinearRegression()\n",
    "model_linear.fit(X_train, y_train)\n",
    "\n",
    "# Make predictions on the test data\n",
    "y_pred = model_linear.predict(X_test)\n",
    "\n",
    "# Evaluate the model\n",
    "mse = mean_squared_error(y_test, y_pred)\n",
    "r2 = r2_score(y_test, y_pred)\n",
    "\n",
    "print(\"Mean Squared Error:\", mse)\n",
    "print(\"R-squared:\", r2)\n",
    "\n",
    "# Print the model coefficients\n",
    "print(\"\\nintercept:\", model_linear.intercept_)\n",
    "coefficients = pd.DataFrame(model_linear.coef_, X.columns, columns=['Coefficient'])\n",
    "print(coefficients)"
   ]
  },
  {
   "cell_type": "markdown",
   "id": "f317dc88-1d50-4ff7-88f6-28f0f0cda90f",
   "metadata": {},
   "source": [
    "**Intercept**\n",
    "Value: 44.41694811634814\n",
    "\n",
    "Explanation: The intercept is the expected mean value of the dependent variable (house prices) when all independent variables are zero. It provides a baseline value from which the effects of the independent variables are added or subtracted.\n",
    "\n",
    "**Coefficients**\n",
    "These values represent the weights assigned to each feature in the linear regression model. Each coefficient indicates the change in the dependent variable (house prices) for a one-unit change in the corresponding independent variable, holding all other variables constant."
   ]
  },
  {
   "cell_type": "markdown",
   "id": "68b9ddd2-c9e1-4635-9540-74a5a9269799",
   "metadata": {},
   "source": [
    "## Objective 2: Training Polynomial regression of degrees 2, 3 & 4"
   ]
  },
  {
   "cell_type": "markdown",
   "id": "1473968b-eca8-43d4-9913-069d51ef538d",
   "metadata": {},
   "source": [
    "### Degree 2 polynomial regression"
   ]
  },
  {
   "cell_type": "code",
   "execution_count": 52,
   "id": "447a0959-33fb-4d13-be6f-3332448b7866",
   "metadata": {},
   "outputs": [
    {
     "name": "stdout",
     "output_type": "stream",
     "text": [
      "Degree 2 Polynomial Regression:\n",
      "Mean Squared Error: 10.370133954721075\n",
      "R-squared: 0.8723058567114002\n",
      "Degree 2 Polynomial Regression Beta Coefficients: [ 3.71402710e+01  6.00354409e-02 -1.86057077e+01  1.34722825e+00\n",
      "  5.17504555e-02 -1.25589775e+00 -2.70558809e+00  5.97694114e+01\n",
      "  1.06786479e+01  7.16059485e-01 -1.18815357e-01 -7.79980544e-01\n",
      " -7.14687821e-03  1.18610203e+00  6.27066610e-02 -2.10486343e-02\n",
      " -1.82684503e-01  1.42135343e-01  2.86274632e+00 -9.37047715e-01\n",
      " -4.33597198e-02 -5.43065876e-03 -1.86640469e-04  1.68018640e-03\n",
      "  1.31734854e-02 -4.40606785e-04 -5.05588275e-03 -3.37669570e-03\n",
      " -3.29370179e-01  5.80656981e-03  1.83114974e-04  1.32197955e-02\n",
      "  5.47810022e-01 -5.77436099e-02 -3.48265562e-03  2.50787352e-01\n",
      " -1.49983200e-01  1.20232947e+01 -1.39090151e-01 -2.07155520e-02\n",
      "  8.63283251e-02 -1.33935499e-01  6.54519956e-03 -2.44689603e-02\n",
      "  7.61815384e-01 -1.66013545e+00 -9.41789459e-02 -6.15624006e-03\n",
      "  3.24906052e-02 -7.04434110e-05 -1.20302793e-03 -5.47836833e-02\n",
      "  1.37710228e-01  2.94574346e-03  5.67472551e-04  1.20642089e-03\n",
      "  2.33394533e-02  2.18524142e-02  2.56158532e+00  1.65903888e-02\n",
      " -5.61977306e-03 -2.48074407e-02  9.17774905e-04 -2.53615629e-01\n",
      "  5.10526733e-01  2.30736605e-01  5.39386195e-01  1.34588669e+00\n",
      " -8.93146596e+00 -7.18270670e-01 -8.71852610e-01 -1.10980372e-02\n",
      " -6.18932878e-03 -6.22479888e-02  3.97481358e-04 -9.18165654e-03\n",
      "  1.99766586e-02]\n"
     ]
    }
   ],
   "source": [
    "# Polynomial features of degree 2\n",
    "poly_features_2 = PolynomialFeatures(degree=2, include_bias=False)\n",
    "X_train_poly_2 = poly_features_2.fit_transform(X_train)\n",
    "X_test_poly_2 = poly_features_2.transform(X_test)\n",
    "\n",
    "# Train the model\n",
    "model_2 = LinearRegression()\n",
    "model_2.fit(X_train_poly_2, y_train)\n",
    "\n",
    "# Predict on the test set\n",
    "y_pred_2 = model_2.predict(X_test_poly_2)\n",
    "\n",
    "# Evaluate the model\n",
    "mse_2 = mean_squared_error(y_test, y_pred_2)\n",
    "r2_2 = r2_score(y_test, y_pred_2)\n",
    "\n",
    "print(f\"Degree 2 Polynomial Regression:\\nMean Squared Error: {mse_2}\\nR-squared: {r2_2}\")\n",
    "\n",
    "# Get beta coefficients\n",
    "beta_2 = model_2.coef_\n",
    "print(f\"Degree 2 Polynomial Regression Beta Coefficients: {beta_2}\")\n"
   ]
  },
  {
   "cell_type": "code",
   "execution_count": 53,
   "id": "08962e9c-b23f-4a2e-9f06-22766922c9f9",
   "metadata": {},
   "outputs": [
    {
     "data": {
      "image/png": "[encoded data removed]",
      "text/plain": [
       "<Figure size 1000x600 with 1 Axes>"
      ]
     },
     "metadata": {},
     "output_type": "display_data"
    }
   ],
   "source": [
    "\n",
    "# Plot the results\n",
    "plt.figure(figsize=(10, 6))\n",
    "plt.scatter(y_test, y_pred_2, alpha=0.6)\n",
    "plt.xlabel('Actual Prices')\n",
    "plt.ylabel('Predicted Prices')\n",
    "plt.title('Degree 2 Polynomial Regression: Actual vs. Predicted Prices')\n",
    "plt.show()\n"
   ]
  },
  {
   "cell_type": "markdown",
   "id": "df9a3503-6773-4fc7-8684-bcd943538c93",
   "metadata": {},
   "source": [
    "## Degree 3 polynomial regression"
   ]
  },
  {
   "cell_type": "code",
   "execution_count": 54,
   "id": "54c69182-205a-4494-95f7-e1a1f8f585df",
   "metadata": {},
   "outputs": [
    {
     "name": "stdout",
     "output_type": "stream",
     "text": [
      "Degree 3 Polynomial Regression:\n",
      "Mean Squared Error: 3134785.808546885\n",
      "R-squared: -38599.63813673483\n",
      "Degree 3 Polynomial Regression Beta Coefficients: [ 3.82283785e+01  2.71807490e+02 -1.06031523e+01  6.86678944e+01\n",
      " -1.62326090e+02  1.65541087e+02 -4.75215238e+01  3.40332134e+00\n",
      " -2.11099665e+01 -1.56632102e+02 -3.73286730e+01 -5.59871190e+02\n",
      " -1.98134333e+01  7.03765633e+00  9.33318893e+02  1.56303125e+01\n",
      "  2.48978730e+01 -4.97362663e+02  5.48978894e+01  9.87954742e+01\n",
      " -1.81809667e+02 -5.44959317e+02  2.32279627e-01 -2.92178929e+01\n",
      " -5.73998590e+01  2.16285489e+00  1.38381866e+00  7.82310917e+01\n",
      "  2.32071111e+02 -4.63566981e+01  8.26408759e+00  8.50277864e+00\n",
      " -4.81298517e+02 -2.44236800e+02  4.66604166e+01 -5.83550188e+01\n",
      " -4.97351462e+02  1.08252074e+01 -3.31164122e+02  4.65376215e+02\n",
      " -3.47704220e+01  4.27238294e+02 -2.49667616e+01  1.99188236e+02\n",
      "  4.18013433e+01 -9.51836322e+00  2.41694286e+02  1.64321754e+01\n",
      " -6.17301295e+02  4.77654905e-01 -1.46813317e+01  3.63303505e+00\n",
      "  1.78926637e+02 -1.34616449e+01 -1.22382765e+01  2.86684734e+01\n",
      "  1.43140182e+01  1.57940802e+01 -6.44977115e+01  1.29598535e+02\n",
      " -6.67256281e+00  9.88783059e+00 -2.11406192e+02 -1.87564824e+01\n",
      " -5.76574436e+02 -7.20898543e+01  4.23489724e+02  3.80695068e-01\n",
      "  2.83511544e+00 -7.51018575e+01  2.71702276e+00  1.52321169e+02\n",
      "  1.47355861e+02 -1.86360256e+01 -1.60409556e+01 -4.21755427e+01\n",
      " -4.54810056e+02  2.59699571e-01  7.97236343e-01  9.94971577e-01\n",
      "  4.88703850e+01 -4.49416996e+00 -2.99794149e-01  1.32362890e+00\n",
      "  2.56680436e+02  6.16704505e+01  7.84550205e+00  4.80539583e+01\n",
      " -1.68009675e-01 -9.14148349e-01  2.68767011e+00 -1.94219138e-01\n",
      " -2.00923126e-01  2.41993788e-01  1.22393358e+01  2.44974953e+00\n",
      "  7.41030241e-02  2.84547397e+00  1.32034087e+01  8.46314517e+01\n",
      " -6.75490350e+00 -2.94868772e+00  3.77314911e+00 -3.58899827e+02\n",
      "  5.06913708e+01  3.21324434e+00  9.36693657e+01 -1.12787407e+01\n",
      " -1.70180996e+00  1.04353347e+00 -2.03829061e+02 -1.83925619e+02\n",
      " -8.86565632e+01  7.30210061e+00  7.58526592e+01  5.27639365e-02\n",
      " -1.28862769e-01  1.56362468e+01  8.78835207e+00  2.92217250e+00\n",
      "  1.53019380e-01 -2.29514011e+00 -1.74703368e-01  4.02870624e-01\n",
      "  1.39680820e+01  3.81819523e+00  4.84994992e+00 -1.16392964e+00\n",
      "  4.33026064e-02 -1.98593635e+01 -8.36671736e+01 -2.82351447e+02\n",
      " -1.86522781e+02  3.67889941e+00  8.61210282e+00  5.12453621e+02\n",
      " -2.92455568e+02 -4.06583441e+01 -5.03806080e+00 -1.38199103e+01\n",
      " -6.75974388e-01 -2.06095531e+01  2.20861147e+01  2.00780181e-03\n",
      " -1.46529581e-01  4.98998090e-02 -4.42454560e-03 -2.45075380e-02\n",
      " -3.03599026e-03  6.30054663e-01  9.56693958e-02  3.93426125e-02\n",
      "  2.75853758e-02 -3.45209997e+00  7.81021703e-01 -1.01344466e-01\n",
      " -4.73450086e-01 -1.84032304e-01  6.86213786e+01  3.71186365e+00\n",
      "  1.04610981e+00  7.74352610e-01  3.03459150e+00 -2.11224208e-01\n",
      " -7.72186356e-02 -2.63911961e+00  1.51306129e+01  2.26024033e+00\n",
      "  4.22484577e-01  1.37773923e+00  3.54743042e-03  2.41071301e-03\n",
      "  2.22264388e-01 -1.07630616e+00 -2.21926530e-03 -1.20264634e-02\n",
      " -7.64852624e-02 -4.84887153e-03  6.02564642e-03  1.76600570e+00\n",
      "  1.22561284e-01 -2.13587359e-01  1.10905523e-01  2.61227485e-03\n",
      "  4.26518252e-02 -4.62887484e+00  1.25580071e+00 -3.88330189e+00\n",
      "  1.65526009e+02 -1.31388334e+01 -3.29640014e+01 -1.24377173e+01\n",
      "  7.78365081e-02 -1.67710493e-01 -8.40774161e-01 -4.37981799e-03\n",
      "  6.22610686e-01  1.50849572e-01  5.05117921e+00  3.89153312e+01\n",
      " -3.67518049e+00  3.43118206e+00 -4.13055162e-01  5.55481542e+02\n",
      "  5.37941738e+01  7.29839643e-01  3.86209040e+01  3.45539628e+01\n",
      "  1.27073220e+00  6.22331114e+00 -3.07213598e+02 -4.65583047e+02\n",
      " -4.94921406e+01 -1.50371234e+01 -5.86212898e+01 -4.02753078e-02\n",
      " -5.13488645e-01  2.74702698e+01  2.11777793e+01  2.61428020e+00\n",
      "  2.15358977e-01 -5.24604426e-01  1.55608026e-01  2.78631166e-01\n",
      " -3.08498354e+01  9.65505167e+00 -3.62852864e+00  6.62817051e+00\n",
      " -6.85749576e-03  3.05481499e+01 -1.84891655e+02  1.14179667e+02\n",
      " -3.71340692e+02 -2.40921882e+03 -1.94797045e+02 -5.99020829e+02\n",
      " -9.89233743e+01 -2.60648692e+01 -1.43059493e+01 -4.21743826e+01\n",
      " -2.71797956e-01  7.20981316e-01  1.83653835e+01  1.93938304e+01\n",
      " -1.00993155e+00 -1.51428703e+01  4.09603668e+02 -5.79570807e+01\n",
      " -3.26497174e+01  1.37377894e+00  1.25192466e+01 -6.29733553e-02\n",
      "  6.57831260e-01 -4.06983429e+01  3.17935162e+01  3.28845431e+00\n",
      "  3.27211407e-01  9.89128688e-01 -3.75620397e-02  5.35903563e+00\n",
      " -4.18988586e+01 -1.10788090e+01  4.42578127e-01  1.35976663e+00\n",
      " -2.49187379e+02  1.74170243e+02  3.56342436e+02 -3.25423998e+01\n",
      "  5.66168607e+02 -8.25104588e+00 -5.44131149e+02 -5.50706808e+02\n",
      " -2.09366792e+02  5.44384313e+00  8.73176811e+00 -7.03102990e+00\n",
      "  1.38587836e-01 -5.58600092e+00  1.30099927e+01 -1.00279053e-03\n",
      " -3.53892738e-04  2.61506043e-01 -1.26795248e+00  5.86650172e-02\n",
      " -2.29911196e-03  9.67631040e-03  2.88027331e-02 -3.68049663e-01\n",
      "  7.00249031e-01  6.13953100e-01  6.52339022e-02  6.92904832e-03\n",
      "  1.90648557e+01 -1.27669091e+00 -6.39393676e+00  8.62037430e-01\n",
      " -8.68526337e+00  9.38028886e+01  4.67185168e+00  2.19541290e+01\n",
      "  2.98137073e+01 -1.77405503e+00  5.51074615e-02 -2.18083851e+00\n",
      "  6.52948632e-03 -1.04818166e-01  2.04182867e-01 -8.00324884e-03\n",
      "  2.15062262e-02 -6.90308546e-01 -5.31832537e-01  1.12047190e+00\n",
      " -1.09438955e+00  4.38815484e-03 -2.68695753e+00  6.68153396e+00\n",
      " -5.48891676e+01 -2.03695578e+00 -2.40074841e+02 -2.29704230e+01\n",
      "  5.10282476e+01  7.02944142e+01 -7.50322486e+00 -5.00629120e-01\n",
      " -1.91925259e+00 -1.19435264e-01 -7.07416214e+00  3.42687096e-01\n",
      "  7.84750676e-04  7.86214127e-01 -1.85216723e+02  1.14243828e+03\n",
      " -1.52769170e+02 -1.02480563e+02 -6.24303484e+01  1.59380538e+02\n",
      " -1.00803040e+02  3.29196900e+01 -8.26799353e+01  1.48154261e+02\n",
      "  1.73532803e+01  3.68244800e+02  1.15729227e+01 -3.13981906e+04\n",
      " -5.61715853e+01  1.00762895e+02 -1.71368170e+01 -1.32327720e+02\n",
      " -4.49690104e+02  2.47765143e+02  4.41688362e+01  7.49754612e+02\n",
      " -4.20449829e+02  1.42708327e+01  4.05175801e+00  2.07699182e+01\n",
      " -7.36226337e-02 -6.75367590e+00  1.53645940e+01  8.17932286e-03\n",
      "  4.39899236e-01 -7.23463315e-02  2.01268140e+00]\n"
     ]
    }
   ],
   "source": [
    "# Polynomial features of degree 3\n",
    "poly_features_3 = PolynomialFeatures(degree=3, include_bias=False)\n",
    "X_train_poly_3 = poly_features_3.fit_transform(X_train)\n",
    "X_test_poly_3 = poly_features_3.transform(X_test)\n",
    "\n",
    "# Train the model\n",
    "model_3 = LinearRegression()\n",
    "model_3.fit(X_train_poly_3, y_train)\n",
    "\n",
    "# Predict on the test set\n",
    "y_pred_3 = model_3.predict(X_test_poly_3)\n",
    "\n",
    "# Evaluate the model\n",
    "mse_3 = mean_squared_error(y_test, y_pred_3)\n",
    "r2_3 = r2_score(y_test, y_pred_3)\n",
    "\n",
    "print(f\"Degree 3 Polynomial Regression:\\nMean Squared Error: {mse_3}\\nR-squared: {r2_3}\")\n",
    "\n",
    "# Get beta coefficients\n",
    "beta_3 = model_3.coef_\n",
    "print(f\"Degree 3 Polynomial Regression Beta Coefficients: {beta_3}\")\n",
    "\n"
   ]
  },
  {
   "cell_type": "code",
   "execution_count": 55,
   "id": "34cc14e5-c911-4653-adaf-325145eaf737",
   "metadata": {},
   "outputs": [
    {
     "data": {
      "image/png": "[encoded data removed]",
      "text/plain": [
       "<Figure size 1000x600 with 1 Axes>"
      ]
     },
     "metadata": {},
     "output_type": "display_data"
    }
   ],
   "source": [
    "# Plot the results\n",
    "plt.figure(figsize=(10, 6))\n",
    "plt.scatter(y_test, y_pred_3, alpha=0.6)\n",
    "plt.xlabel('Actual Prices')\n",
    "plt.ylabel('Predicted Prices')\n",
    "plt.title('Degree 3 Polynomial Regression: Actual vs. Predicted Prices')\n",
    "plt.show()"
   ]
  },
  {
   "cell_type": "markdown",
   "id": "c57336fc-f5ed-4107-bb82-2042bca73532",
   "metadata": {},
   "source": [
    "## Degree 4 polynomial regression"
   ]
  },
  {
   "cell_type": "code",
   "execution_count": 56,
   "id": "3858c2a3-974b-4db2-ac65-41743285d081",
   "metadata": {},
   "outputs": [
    {
     "name": "stdout",
     "output_type": "stream",
     "text": [
      "Degree 4 Polynomial Regression:\n",
      "Mean Squared Error: 53563.082825252015\n",
      "R-squared: -658.5567620563911\n",
      "Degree 4 Polynomial Regression Beta Coefficients: [-2.21765331e-06  4.05392114e-06 -1.75057810e-06 ... -3.46271717e-03\n",
      "  7.52415417e-04 -5.65728572e-03]\n"
     ]
    }
   ],
   "source": [
    "# Polynomial features of degree 4\n",
    "poly_features_4 = PolynomialFeatures(degree=4, include_bias=False)\n",
    "X_train_poly_4 = poly_features_4.fit_transform(X_train)\n",
    "X_test_poly_4 = poly_features_4.transform(X_test)\n",
    "\n",
    "# Train the model\n",
    "model_4 = LinearRegression()\n",
    "model_4.fit(X_train_poly_4, y_train)\n",
    "\n",
    "# Predict on the test set\n",
    "y_pred_4 = model_4.predict(X_test_poly_4)\n",
    "\n",
    "# Evaluate the model\n",
    "mse_4 = mean_squared_error(y_test, y_pred_4)\n",
    "r2_4 = r2_score(y_test, y_pred_4)\n",
    "\n",
    "print(f\"Degree 4 Polynomial Regression:\\nMean Squared Error: {mse_4}\\nR-squared: {r2_4}\")\n",
    "\n",
    "# Get beta coefficients\n",
    "beta_4 = model_4.coef_\n",
    "print(f\"Degree 4 Polynomial Regression Beta Coefficients: {beta_4}\")"
   ]
  },
  {
   "cell_type": "code",
   "execution_count": 57,
   "id": "2e77ebb2-7328-4b19-aee1-59a0d0d545fe",
   "metadata": {},
   "outputs": [
    {
     "data": {
      "image/png": "[encoded data removed]",
      "text/plain": [
       "<Figure size 1000x600 with 1 Axes>"
      ]
     },
     "metadata": {},
     "output_type": "display_data"
    }
   ],
   "source": [
    "\n",
    "# Plot the results\n",
    "plt.figure(figsize=(10, 6))\n",
    "plt.scatter(y_test, y_pred_4, alpha=0.6)\n",
    "plt.xlabel('Actual Prices')\n",
    "plt.ylabel('Predicted Prices')\n",
    "plt.title('Degree 4 Polynomial Regression: Actual vs. Predicted Prices')\n",
    "plt.show()"
   ]
  },
  {
   "cell_type": "markdown",
   "id": "613555b0-a37e-4f1f-9607-705244e018d6",
   "metadata": {},
   "source": [
    "## Objective 3: Stability check using bootstraping"
   ]
  },
  {
   "cell_type": "markdown",
   "id": "89a695ce-2b5a-4ce0-8457-6fff42abc5da",
   "metadata": {},
   "source": [
    "### Linear regression"
   ]
  },
  {
   "cell_type": "code",
   "execution_count": 58,
   "id": "fa638adc-37e3-45fb-bde7-41d09bcd21fb",
   "metadata": {},
   "outputs": [
    {
     "name": "stdout",
     "output_type": "stream",
     "text": [
      "Bootstrapping for Linear Regression Beta Coefficients:\n",
      "Mean of Coefficients:\n",
      "[ 3.57794138e+00  1.38967098e-03 -1.38426931e+00  2.57047877e-01\n",
      " -1.12452797e-02 -6.32198346e-01 -1.20333836e-01 -1.63538901e+01\n",
      " -1.08576921e+00  3.99924751e-02  7.03569653e-02]\n",
      "Standard Deviation of Coefficients:\n",
      "[1.07714508e+00 2.16126388e-02 2.62959373e-01 7.93226298e-02\n",
      " 3.30911973e-03 1.34816674e-01 4.16994499e-02 4.99391337e+00\n",
      " 1.58501238e-01 1.72486035e-02 7.36538667e-02]\n",
      "The coefficients have a high variance across bootstrap samples, indicating potential instability.\n"
     ]
    }
   ],
   "source": [
    "import numpy as np\n",
    "import pandas as pd\n",
    "from sklearn.linear_model import LinearRegression\n",
    "from sklearn.utils import resample\n",
    "\n",
    "# Define the number of bootstrap iterations\n",
    "n_iterations = 1000\n",
    "\n",
    "# Store coefficients from each bootstrap sample\n",
    "bootstrap_coeffs_linear = np.zeros((n_iterations, X.shape[1]))\n",
    "\n",
    "for i in range(n_iterations):\n",
    "    # Resample the data\n",
    "    X_train_boot, y_train_boot = resample(X_train, y_train, random_state=i)\n",
    "    \n",
    "    # Fit the model\n",
    "    model_boot = LinearRegression()\n",
    "    model_boot.fit(X_train_boot, y_train_boot)\n",
    "    \n",
    "    # Store the coefficients\n",
    "    bootstrap_coeffs_linear[i, :] = model_boot.coef_\n",
    "\n",
    "# Compute mean and standard deviation of coefficients\n",
    "mean_coeff_bootstrap_linear = np.mean(bootstrap_coeffs_linear, axis=0)\n",
    "std_coeff_bootstrap_linear = np.std(bootstrap_coeffs_linear, axis=0)\n",
    "\n",
    "print(\"Bootstrapping for Linear Regression Beta Coefficients:\")\n",
    "print(f\"Mean of Coefficients:\\n{mean_coeff_bootstrap_linear}\")\n",
    "print(f\"Standard Deviation of Coefficients:\\n{std_coeff_bootstrap_linear}\")\n",
    "\n",
    "# Analyze coefficient stability\n",
    "mean_std_coeff_linear = np.mean(std_coeff_bootstrap_linear)\n",
    "if mean_std_coeff_linear > 0.01:\n",
    "    print(\"The coefficients have a high variance across bootstrap samples, indicating potential instability.\")\n",
    "else:\n",
    "    print(\"The coefficients have a low variance across bootstrap samples, suggesting a more stable model.\")\n"
   ]
  },
  {
   "cell_type": "markdown",
   "id": "4932e750-592b-4eea-954a-e5885ed87d2c",
   "metadata": {},
   "source": [
    "### Polynomial regression of degree 2"
   ]
  },
  {
   "cell_type": "code",
   "execution_count": 59,
   "id": "3812a976-6129-46a4-af98-02e5aaa9de3c",
   "metadata": {},
   "outputs": [
    {
     "name": "stdout",
     "output_type": "stream",
     "text": [
      "Bootstrapping for Degree 2 Polynomial Regression Beta Coefficients:\n",
      "Mean of Coefficients:\n",
      "[ 5.42777414e+07  2.75952352e+01  7.53313845e-02 -2.04076148e+01\n",
      "  1.64028303e+00  4.90825967e-02 -1.43337698e+00 -6.66465613e-01\n",
      " -5.94140336e+00  8.97186970e+00  7.86355170e-01 -1.06847621e-01\n",
      " -3.20507914e-01 -1.69106023e-02  1.18451730e+00  7.31053357e-03\n",
      " -1.78244894e-02 -1.01691616e-01  1.30971234e-01  7.18232325e+00\n",
      " -8.80488088e-01 -5.03084580e-02 -6.32562981e-02 -1.06265277e-04\n",
      "  2.50007667e-03  1.45854638e-02 -4.96431778e-04 -6.92427529e-03\n",
      " -3.43798350e-03 -3.02311828e-01  8.57081371e-03  2.50540310e-04\n",
      "  1.25939374e-02  6.28800602e-01 -3.86209501e-02 -4.20832808e-03\n",
      "  2.40642949e-01 -1.70575745e-01  1.53088690e+01 -1.51965994e-01\n",
      " -2.30106993e-02  8.36062606e-02 -1.63304604e-01  7.21092250e-03\n",
      " -2.37547665e-02  1.00749748e+00 -9.51461250e-01 -1.14912193e-01\n",
      " -7.78084629e-03  4.26733558e-02 -5.18626093e-05 -1.22616267e-03\n",
      " -7.40154140e-02  8.01275225e-02  2.90803604e-03  5.38069204e-04\n",
      "  1.50297312e-03  3.18800651e-02  1.85258560e-02  2.29388907e+00\n",
      "  8.40479667e-03 -8.16405613e-03 -2.82180493e-02  9.27809815e-04\n",
      " -2.00796779e-01  5.31726436e-01  1.89571328e-01  7.93245337e-01\n",
      "  2.82766235e+01 -8.16501656e+00 -7.20067828e-01 -5.70377994e-01\n",
      "  1.48016214e-02 -4.56268467e-03 -4.96264948e-02  2.54669373e-04\n",
      " -8.11326879e-03  1.54814178e-02]\n",
      "Standard Deviation of Coefficients:\n",
      "[2.37699244e+09 2.13973057e+01 6.16106171e-01 8.95816872e+00\n",
      " 3.56978640e+00 2.75486046e-01 2.01060670e+00 1.36381457e+01\n",
      " 2.58716011e+02 7.19248315e+00 6.57360972e-01 3.29068226e+00\n",
      " 1.04322778e+00 9.41681923e-02 7.91021108e-01 3.45674509e-01\n",
      " 2.17872934e-02 2.12016817e-01 2.36352815e-01 1.36935230e+01\n",
      " 5.93671638e-01 7.56036854e-02 2.96633908e-01 1.57839969e-03\n",
      " 3.74864032e-02 1.77694603e-02 8.13820383e-04 1.10846414e-02\n",
      " 1.29755075e-02 6.82905055e-01 3.19249673e-02 3.72783542e-03\n",
      " 1.68249124e-02 3.01764578e-01 2.36422767e-01 1.00976504e-02\n",
      " 1.96331395e-01 4.92338443e-01 1.48876094e+01 2.56553950e-01\n",
      " 3.43180634e-02 2.56961146e-01 2.02511199e-01 1.13107718e-02\n",
      " 8.05515052e-02 1.25724082e+00 3.43076045e+00 2.41610746e-01\n",
      " 4.34890875e-02 2.10384515e-01 2.01619799e-04 5.47544772e-03\n",
      " 9.36590411e-02 2.43005445e-01 1.08420406e-02 6.55522467e-04\n",
      " 4.15887298e-03 2.09300116e-02 2.66454686e-02 1.57626387e+00\n",
      " 1.02627040e-01 2.23637393e-02 7.92999945e-02 5.63824513e-03\n",
      " 1.85433384e+00 7.97133319e-01 4.29793145e-01 1.00510989e+00\n",
      " 1.34469644e+02 7.06894263e+00 1.09224618e+00 3.76540221e+00\n",
      " 1.60992621e-01 3.00777211e-02 1.52224164e-01 1.80020385e-03\n",
      " 2.41403708e-02 7.12836113e-02]\n",
      "The coefficients have a high variance across bootstrap samples, indicating potential instability.\n"
     ]
    }
   ],
   "source": [
    "# Initialize PolynomialFeatures for Degree 2 Polynomial Regression\n",
    "poly_features_2 = PolynomialFeatures(degree=2)\n",
    "X_poly_2 = poly_features_2.fit_transform(X)\n",
    "\n",
    "# Splitting the polynomial data\n",
    "X_train_poly_2, X_test_poly_2, y_train, y_test = train_test_split(X_poly_2, y, test_size=0.2, random_state=42)\n",
    "\n",
    "# Define the number of bootstrap iterations\n",
    "n_iterations = 1000\n",
    "\n",
    "# Store coefficients from each bootstrap sample\n",
    "bootstrap_coeffs_poly_2 = np.zeros((n_iterations, X_train_poly_2.shape[1]))\n",
    "\n",
    "for i in range(n_iterations):\n",
    "    # Resample the data\n",
    "    X_train_boot, y_train_boot = resample(X_train_poly_2, y_train, random_state=i)\n",
    "    \n",
    "    # Fit the model\n",
    "    model_boot_poly_2 = LinearRegression()\n",
    "    model_boot_poly_2.fit(X_train_boot, y_train_boot)\n",
    "    \n",
    "    # Store the coefficients\n",
    "    bootstrap_coeffs_poly_2[i, :] = model_boot_poly_2.coef_\n",
    "\n",
    "# Compute mean and standard deviation of coefficients\n",
    "mean_coeff_bootstrap_poly_2 = np.mean(bootstrap_coeffs_poly_2, axis=0)\n",
    "std_coeff_bootstrap_poly_2 = np.std(bootstrap_coeffs_poly_2, axis=0)\n",
    "\n",
    "print(\"Bootstrapping for Degree 2 Polynomial Regression Beta Coefficients:\")\n",
    "print(f\"Mean of Coefficients:\\n{mean_coeff_bootstrap_poly_2}\")\n",
    "print(f\"Standard Deviation of Coefficients:\\n{std_coeff_bootstrap_poly_2}\")\n",
    "\n",
    "# Analyze coefficient stability\n",
    "mean_std_coeff_poly_2 = np.mean(std_coeff_bootstrap_poly_2)\n",
    "if mean_std_coeff_poly_2 > 0.01:\n",
    "    print(\"The coefficients have a high variance across bootstrap samples, indicating potential instability.\")\n",
    "else:\n",
    "    print(\"The coefficients have a low variance across bootstrap samples, suggesting a more stable model.\")\n"
   ]
  },
  {
   "cell_type": "markdown",
   "id": "3a20e39d-52b3-4397-82f9-1e2385dd9768",
   "metadata": {},
   "source": [
    "### Polynomial regression of degree 3"
   ]
  },
  {
   "cell_type": "code",
   "execution_count": 60,
   "id": "d9bb765d-9652-469e-930d-1ceb795e59d3",
   "metadata": {},
   "outputs": [
    {
     "name": "stdout",
     "output_type": "stream",
     "text": [
      "Bootstrapping for Degree 3 Polynomial Regression Beta Coefficients:\n",
      "Mean of Coefficients:\n",
      "[ 1.11656310e-04  1.83861403e-05  2.73601519e-02  1.29458697e-03\n",
      "  8.00565842e-05  8.48964011e-03  1.10928532e-02  6.90238799e-04\n",
      " -1.50216710e-04 -2.11060999e-03  7.87729047e-03  1.43731799e-03\n",
      "  1.13104990e-02  6.78202667e-03 -1.71151157e-03 -8.53763547e-03\n",
      "  5.81363067e-02  7.22664456e-02 -8.06216764e-03 -1.76626076e-03\n",
      " -7.78335960e-03  3.97806625e-02  9.05022033e-03 -7.14559333e-02\n",
      "  2.26679479e-01 -2.15676569e-02  1.25105474e-03  2.17696814e-01\n",
      "  3.90630829e-02 -4.16207426e-03  2.66943027e-01 -5.73167354e-02\n",
      " -7.85627879e-02  2.00982995e-02 -8.58620600e-03  8.45561780e-02\n",
      "  1.26549529e-01 -1.73337797e-02 -6.65458949e-04  6.51387090e-03\n",
      " -3.47666054e-03  2.01180452e-02  1.38310642e-03 -3.27687342e-02\n",
      "  2.08023535e-03  1.93218871e-03  1.13442001e-03 -3.11285717e-03\n",
      "  3.95554694e-03  4.26061815e-03 -7.20135178e-04 -1.33015365e-02\n",
      "  1.14662783e-01 -8.18869471e-03 -9.72054862e-02  3.92515936e-03\n",
      "  1.05159927e-01  1.73422500e-02  4.76146216e-03 -1.70809863e-03\n",
      "  1.17081021e-01 -1.37772874e-02 -5.61491458e-02 -3.08340352e-03\n",
      "  1.80059961e-03  6.18420469e-03  7.08542266e-04  1.53228770e-03\n",
      "  1.39990051e-03 -2.80828442e-03  3.35200960e-03  2.20808593e-04\n",
      " -3.57602435e-02  3.58065122e-02  9.05653175e-03  1.20679800e-02\n",
      "  8.83423034e-03  3.46583854e-03  2.64498368e-01 -1.89580921e-03\n",
      " -6.92004810e-01 -1.79784139e-01 -2.68642351e-03 -1.42574038e-01\n",
      "  3.85305354e-01  7.44421635e-02  1.96340896e-01 -3.52853178e-03\n",
      " -1.71674516e-01  2.42880935e-03  2.50369933e-01  4.94079023e-03\n",
      "  5.35601818e-03 -9.09654839e-03 -1.90113015e-02  4.58799053e-01\n",
      " -1.53267428e-01 -1.83935670e-02 -3.77824550e-02 -3.45732217e-02\n",
      " -6.99221133e-02 -1.80036398e-03 -1.18879374e+00  5.86108902e-01\n",
      " -1.69921051e-02 -4.46239613e-02  1.09527656e-01  3.07287298e-02\n",
      "  1.00162946e-01  4.35694288e-05 -3.89706231e-02  1.42837990e-01\n",
      "  2.22963043e-02 -1.19259503e-01  8.70389330e-02  1.20327504e-01\n",
      " -7.46642226e-04 -1.27140959e-02 -8.76418577e-03 -6.83869145e-02\n",
      "  1.28390668e-02  3.75275889e-04  1.17585839e-02 -1.16654788e-01\n",
      "  1.43430709e-01 -1.67146590e-02  6.32912869e-01  5.46656009e-02\n",
      "  1.80319674e-01 -1.97370972e-03 -2.52344489e-01 -1.14394846e-01\n",
      " -1.47966611e-02 -8.63069232e-02  2.01398071e-02 -2.01731284e-02\n",
      "  6.95812147e-03 -1.07304819e-02 -4.05595021e-02  2.99685261e-03\n",
      " -6.00714611e-02 -2.06871862e-03 -5.65417435e-02 -9.26590812e-02\n",
      " -1.08909439e-04 -2.48177874e-03 -1.71421135e-03  5.54381478e-06\n",
      " -5.40781863e-04  1.48715111e-03  1.59039128e-01  1.16254521e-03\n",
      "  3.38766081e-04 -1.02027461e-03 -4.81901001e-02 -1.36027183e-02\n",
      " -9.60389480e-04  5.60490517e-02  5.38340232e-02  1.32285932e-01\n",
      " -5.49929519e-02  8.00492815e-03 -3.77957479e-02 -1.48745389e-02\n",
      " -1.06247597e-03 -9.76423925e-03  9.73438317e-03  1.33971259e-01\n",
      "  1.86211299e-02  9.72263961e-03  6.30519784e-02  4.41671642e-05\n",
      "  1.25324378e-03  1.84921904e-04 -3.77961701e-02 -2.26869276e-03\n",
      " -1.47950104e-04 -1.20431061e-03  6.29454571e-03  4.42606631e-03\n",
      " -3.52963868e-01 -2.50241135e-02 -5.41799178e-03 -1.56314056e-02\n",
      " -1.54877490e-04 -3.08388582e-01 -1.26761920e-02 -7.82912766e-02\n",
      " -1.72156183e-02  2.06083148e-01 -1.57733774e-01 -1.23966065e-01\n",
      "  2.64039300e-02  3.50434150e-02  1.21558623e-02  4.59278889e-02\n",
      " -1.13090995e-04 -2.79502408e-03 -2.16750695e-03 -1.96899664e-01\n",
      " -9.79711853e-02  3.21537769e-03 -1.03631691e-01  7.56025065e-01\n",
      " -6.88746898e-02  2.45983435e-01  7.83665807e-03  1.03012572e-01\n",
      "  8.60087324e-02  6.99753903e-04  5.92266144e-02  2.72537302e-01\n",
      "  1.53789340e-02 -1.22100052e-01 -9.44223748e-03  7.41050530e-02\n",
      "  3.83639638e-04 -5.31750775e-03 -1.67103229e-02  8.32798662e-02\n",
      " -5.42684863e-03 -4.53195573e-03 -1.44999999e-02 -3.57330601e-02\n",
      "  6.20750592e-02  4.46337176e-01  2.51658116e-01  5.50130921e-02\n",
      "  5.61905704e-02 -1.66087611e-02  2.30126817e-01 -3.47222719e-01\n",
      "  1.19436907e-02 -7.34776563e-02 -5.28097499e-03 -2.17601918e-02\n",
      "  3.42822916e-03  1.14634321e-02  1.00506317e-03  1.62155590e-02\n",
      "  1.03235842e-01 -3.02160071e-03 -6.31630194e-03  1.16187329e-01\n",
      " -2.94090467e-02 -7.89548256e-03  1.89795663e-01 -1.19956460e-02\n",
      " -1.11892847e-02  3.46915606e-02 -8.46153098e-02  3.19566915e-02\n",
      "  8.48956443e-04 -7.18857673e-03  9.33168514e-03  6.23700456e-03\n",
      " -2.87478819e-03 -1.83404803e-03 -1.87035258e-02  1.18258799e-02\n",
      "  1.87200551e-02  4.01312395e-02 -6.05319707e-03 -3.78700979e-03\n",
      " -1.47998858e-02  6.55108158e-02 -3.41883586e-02  1.60138860e-02\n",
      "  1.45915625e-02  3.92605075e-03  3.68770271e-02  1.94233116e-02\n",
      "  7.88257250e-03 -4.75473099e-03  2.18388211e-02  2.55041960e-02\n",
      "  6.98342046e-02 -1.78834544e-03  4.30274369e-02 -3.68828575e-02\n",
      " -8.45719430e-06 -8.48911596e-06 -1.29829460e-03  3.40800916e-03\n",
      "  2.42452623e-04  3.41002561e-05  2.10994595e-05 -9.75007598e-04\n",
      " -2.89490003e-03  3.58267785e-02  6.38246149e-03  1.38000444e-03\n",
      " -3.18869152e-03  2.44449958e-04  5.62564902e-02  1.06752596e-02\n",
      "  3.06724429e-02  2.33264447e-02  9.94960632e-01 -3.57854603e-02\n",
      " -6.66425715e-03 -1.02194370e-01 -3.17795033e-04 -1.92640764e-03\n",
      " -7.43944883e-04  3.71846271e-04  2.91170911e-03  4.51476559e-03\n",
      " -6.06248404e-03 -3.11715557e-03  4.36918427e-01  2.44482766e-02\n",
      " -2.42234236e-03  1.01746255e-02  7.23115451e-03  3.24010704e-04\n",
      "  3.77787478e-02  7.06665035e-02 -4.37289319e-02  1.37496964e-01\n",
      " -8.76519354e-02  3.64975205e-03  1.94939327e-02 -1.60783294e-01\n",
      " -1.69528527e-02 -1.02996016e-02 -5.68236088e-03 -1.45891882e-02\n",
      "  4.00956719e-02 -3.22161621e-04 -4.45305061e-01 -3.53156683e-02\n",
      "  4.01880966e-03 -4.37664338e-02  1.38203407e-02  1.16590285e-02\n",
      "  1.42799381e-04  3.27063427e-02 -2.96561741e-02  1.17973298e-02\n",
      " -2.39172343e-02 -6.79968053e-02  1.80663612e-02 -4.65796313e-02\n",
      " -5.92584127e-04  2.91412118e-02  1.04655000e-03  2.68331638e-02\n",
      " -3.87048613e-02  1.94351899e-02  3.82973836e-03 -2.30284680e-02\n",
      "  1.22200384e-02 -2.76756007e-02  1.40575534e-02  2.91729862e-03\n",
      " -3.20621089e-02 -4.97270254e-04 -3.57935334e-02 -8.06601428e-02\n",
      " -2.65738732e-04  1.54403995e-03  1.66330498e-02  1.56459648e-02]\n",
      "Standard Deviation of Coefficients:\n",
      "[5.81396212e-03 1.10630597e-02 1.09752742e-01 1.09503165e-02\n",
      " 9.29513238e-03 1.27384282e-01 4.39187123e-02 5.41578818e-03\n",
      " 1.44014684e-03 9.85890255e-03 4.58267801e-02 1.50402983e-02\n",
      " 1.52927965e-01 9.56196028e-01 1.00208121e-01 7.64625852e-02\n",
      " 7.97029232e-01 3.27285909e-01 6.96290816e-02 1.35806867e-02\n",
      " 1.37293440e-01 2.52451083e-01 1.06131481e-01 4.56952461e-01\n",
      " 8.80011842e-01 7.12587632e-01 2.08260436e-01 1.57026841e+00\n",
      " 3.45213464e-01 9.02043017e-02 1.24183356e+00 1.07527996e+00\n",
      " 7.81358247e-01 1.03754871e-01 6.80234558e-02 8.49549464e-01\n",
      " 4.21489746e-01 5.58691414e-02 8.16623822e-03 1.39470526e-01\n",
      " 2.35149539e-01 9.31821936e-02 6.25138801e-02 8.43193822e-01\n",
      " 2.03239099e-01 4.52828039e-02 8.69589566e-03 9.66603132e-02\n",
      " 2.36428943e-01 6.21011085e-02 5.04658862e-02 4.32020114e-01\n",
      " 9.13628344e-01 2.28002368e-01 8.18210082e-01 2.47784065e-01\n",
      " 6.46365887e-01 1.53390989e+00 9.44470124e-02 5.03999082e-02\n",
      " 5.12990455e-01 4.97541673e-01 4.12607527e-01 5.03237863e-02\n",
      " 9.35131506e-03 6.05832292e-02 2.61059875e-02 4.48588736e-02\n",
      " 1.84697720e-03 1.68213371e-02 2.15560371e-02 7.02366524e-03\n",
      " 1.69287111e-01 3.67567177e-01 1.25585624e-01 8.58698463e-01\n",
      " 1.95108003e-01 1.10118474e-01 2.16400198e+00 6.68912163e-01\n",
      " 2.70234146e+00 1.07084430e+00 9.33887256e-02 1.21965988e+00\n",
      " 1.63135726e+00 6.99540764e-01 1.51907273e+00 8.47949625e-01\n",
      " 1.08361041e+00 4.16778899e-02 8.66259859e-01 3.97668448e-01\n",
      " 2.70981136e-02 2.07442328e-01 2.60851626e-01 1.93051507e+00\n",
      " 5.90179881e-01 1.54840545e-01 4.76772263e-01 1.39155775e+00\n",
      " 8.69292448e-01 1.21245859e-01 2.30422236e+00 2.54367522e+00\n",
      " 2.10967137e-01 1.23099360e+00 8.62421668e-01 6.81555577e-01\n",
      " 8.15490732e-01 8.78093841e-02 1.04784602e+00 9.03783785e-01\n",
      " 2.24522745e-01 9.21075302e-01 7.62505129e-01 8.85856510e-01\n",
      " 6.49241415e-03 7.48145024e-02 5.25800305e-02 3.28982768e-01\n",
      " 1.29737958e-01 4.56161130e-02 1.40318381e-01 2.37641313e-01\n",
      " 3.88442580e-01 2.75121780e+00 1.23383076e+00 5.65859947e-01\n",
      " 9.06823381e-01 1.58939800e-01 2.03902829e+00 1.16210063e+00\n",
      " 4.02982039e-01 7.08033510e-01 7.28032125e-02 1.60111084e-01\n",
      " 1.61253299e-01 2.19111617e-01 1.01065017e+00 6.20204074e-01\n",
      " 9.63788215e-01 1.08961646e-01 8.31627546e-01 1.03660081e+00\n",
      " 1.32881004e-03 4.62504863e-02 1.28083737e-02 8.53207055e-04\n",
      " 6.92806844e-03 1.07055680e-02 4.33796080e-01 3.03345847e-02\n",
      " 6.00704812e-03 1.32063621e-02 6.44457295e-01 3.12075121e-01\n",
      " 1.85713072e-02 2.45870266e-01 3.18320155e-01 2.32873279e+00\n",
      " 5.30887544e-01 1.25988740e-01 4.08829150e-01 2.75202510e-01\n",
      " 1.89259279e-02 8.91383412e-02 9.69916470e-01 1.29317721e+00\n",
      " 2.48160859e-01 6.76705988e-02 2.76342063e-01 3.77624611e-04\n",
      " 6.48506300e-03 7.09102537e-02 1.16163608e-01 1.66844119e-02\n",
      " 3.15175286e-03 8.47497961e-03 1.84748239e-02 3.08553167e-02\n",
      " 1.77491002e+00 1.28253479e-01 5.57434927e-02 9.01367794e-02\n",
      " 1.33004738e-02 1.86521631e+00 6.52044517e-01 5.55344955e-01\n",
      " 8.94403958e-01 7.35953148e-01 1.11837919e+00 1.00727550e+00\n",
      " 1.08738231e+00 2.06785653e-01 6.28195584e-02 2.29090841e-01\n",
      " 7.44144778e-03 5.98166304e-02 9.71410610e-02 1.37995582e+00\n",
      " 1.09354781e+00 1.05749832e-01 1.98085968e+00 3.02977710e+00\n",
      " 3.82981924e-01 1.12937014e+00 7.59983906e-01 1.07130981e+00\n",
      " 9.90392001e-01 8.85498695e-02 1.14286266e+00 7.81529709e-01\n",
      " 1.24528152e-01 9.37683453e-01 6.71921731e-01 8.48917375e-01\n",
      " 4.25457944e-03 6.93203726e-02 6.83274327e-02 3.89672083e-01\n",
      " 1.29817039e-01 2.38356762e-02 1.28207722e-01 3.54978036e-01\n",
      " 5.26431466e-01 2.82995247e+00 1.36102260e+00 4.83732188e-01\n",
      " 1.04510617e+00 3.64216086e-01 1.68337745e+00 1.06938525e+00\n",
      " 3.68625523e-01 4.42551078e-01 7.17574474e-02 1.27943080e-01\n",
      " 2.06501574e-01 8.68301581e-02 9.83311131e-01 5.34208472e-01\n",
      " 1.04961547e+00 8.67680020e-02 8.59574516e-01 1.12919896e+00\n",
      " 7.98261713e-01 8.56685889e-02 9.37461060e-01 2.80875942e-01\n",
      " 7.96429720e-02 9.27022363e-01 5.78035832e-01 8.17560124e-01\n",
      " 5.18844010e-03 6.38849420e-02 2.37748557e-01 6.47273351e-01\n",
      " 1.19597214e-01 2.88342836e-02 9.02942753e-02 2.26640994e-01\n",
      " 5.79427159e-01 8.75283720e-01 7.33889178e-01 3.82682264e-01\n",
      " 9.74922621e-01 8.00469307e-01 2.19801900e-01 6.06592416e-01\n",
      " 2.63830144e-01 3.41829253e-01 3.62851360e-02 1.13117513e-01\n",
      " 1.27420297e-01 4.81533534e-02 7.10600632e-01 4.88207197e-01\n",
      " 8.79363929e-01 5.40461443e-02 7.09230450e-01 9.88139716e-01\n",
      " 9.05645813e-05 1.11233198e-03 1.80249026e-02 5.50190144e-02\n",
      " 3.94198204e-03 5.25829539e-04 2.51865972e-03 1.73438093e-02\n",
      " 3.11629540e-02 2.15753727e-01 4.24870208e-02 1.45992846e-02\n",
      " 2.95911685e-02 1.06088504e-02 2.56875995e-01 1.80677338e-01\n",
      " 1.76901638e-01 2.41431060e-01 9.55526705e-01 6.13395546e-01\n",
      " 3.18939714e-01 5.87305855e-01 7.12938667e-02 2.45742712e-02\n",
      " 7.22190330e-02 2.51002010e-03 3.78847329e-02 3.90777356e-02\n",
      " 1.78531812e-02 3.49763695e-02 1.92835056e+00 1.86320872e-01\n",
      " 1.68654415e-01 2.09732035e-01 1.63093041e-02 2.58313342e+00\n",
      " 7.85958845e-01 9.91515685e-01 7.28581666e-01 6.87191359e-01\n",
      " 7.05510763e-01 3.77893617e-01 7.63188654e-01 4.72669032e-01\n",
      " 3.10779586e-01 5.07050327e-01 4.30239665e-02 5.17154440e-01\n",
      " 3.31678827e-01 3.97905299e-03 1.64556285e+00 1.02269189e+00\n",
      " 7.92038813e-02 6.29090222e-01 3.97158656e-01 6.80951050e-02\n",
      " 2.34723505e-02 1.95153966e-01 9.83892595e-01 5.13045151e-01\n",
      " 7.57742492e-01 8.74381289e-01 2.89047044e-01 8.08229549e-01\n",
      " 1.71532664e-02 3.01533721e-02 1.40387772e-02 2.62863765e-02\n",
      " 1.83200135e-01 2.21028572e-01 1.53720257e-01 7.17450140e-01\n",
      " 1.29816455e-01 1.46884012e-01 5.25013476e-01 2.10924804e-01\n",
      " 5.09456862e-01 4.44354734e-02 4.94324238e-01 8.17082318e-01\n",
      " 4.01627669e-03 7.67384342e-02 3.36090359e-01 3.72910261e-01]\n",
      "The coefficients have a high variance across bootstrap samples, indicating potential instability.\n"
     ]
    }
   ],
   "source": [
    "# Initialize PolynomialFeatures for Degree 3 Polynomial Regression\n",
    "poly_features_3 = PolynomialFeatures(degree=3)\n",
    "X_poly_3 = poly_features_3.fit_transform(X)\n",
    "\n",
    "# Splitting the polynomial data\n",
    "X_train_poly_3, X_test_poly_3, y_train, y_test = train_test_split(X_poly_3, y, test_size=0.2, random_state=42)\n",
    "\n",
    "# Define the number of bootstrap iterations\n",
    "n_iterations = 1000\n",
    "\n",
    "# Store coefficients from each bootstrap sample\n",
    "bootstrap_coeffs_poly_3 = np.zeros((n_iterations, X_train_poly_3.shape[1]))\n",
    "\n",
    "for i in range(n_iterations):\n",
    "    # Resample the data\n",
    "    X_train_boot, y_train_boot = resample(X_train_poly_3, y_train, random_state=i)\n",
    "    \n",
    "    # Fit the model\n",
    "    model_boot_poly_3 = LinearRegression()\n",
    "    model_boot_poly_3.fit(X_train_boot, y_train_boot)\n",
    "    \n",
    "    # Store the coefficients\n",
    "    bootstrap_coeffs_poly_3[i, :] = model_boot_poly_3.coef_\n",
    "\n",
    "# Compute mean and standard deviation of coefficients\n",
    "mean_coeff_bootstrap_poly_3 = np.mean(bootstrap_coeffs_poly_3, axis=0)\n",
    "std_coeff_bootstrap_poly_3 = np.std(bootstrap_coeffs_poly_3, axis=0)\n",
    "\n",
    "print(\"Bootstrapping for Degree 3 Polynomial Regression Beta Coefficients:\")\n",
    "print(f\"Mean of Coefficients:\\n{mean_coeff_bootstrap_poly_3}\")\n",
    "print(f\"Standard Deviation of Coefficients:\\n{std_coeff_bootstrap_poly_3}\")\n",
    "\n",
    "# Analyze coefficient stability\n",
    "mean_std_coeff_poly_3 = np.mean(std_coeff_bootstrap_poly_3)\n",
    "if mean_std_coeff_poly_3 > 0.01:\n",
    "    print(\"The coefficients have a high variance across bootstrap samples, indicating potential instability.\")\n",
    "else:\n",
    "    print(\"The coefficients have a low variance across bootstrap samples, suggesting a more stable model.\")\n"
   ]
  },
  {
   "cell_type": "markdown",
   "id": "dff09e99-31ff-4659-b9bc-090222740bcb",
   "metadata": {},
   "source": [
    "### Polynomial regression of degree 4"
   ]
  },
  {
   "cell_type": "code",
   "execution_count": 61,
   "id": "503ee251-a871-4b16-bfc4-cf15abeea21f",
   "metadata": {},
   "outputs": [
    {
     "name": "stdout",
     "output_type": "stream",
     "text": [
      "Bootstrapping for Degree 4 Polynomial Regression Beta Coefficients:\n",
      "Mean of Coefficients:\n",
      "[-2.65295310e-09  7.85417353e-09  6.72452485e-08 ...  4.08416251e-06\n",
      "  2.34729749e-07 -5.04912898e-06]\n",
      "Standard Deviation of Coefficients:\n",
      "[8.62716989e-08 2.11154371e-08 1.11075275e-07 ... 2.62048581e-05\n",
      " 1.32530932e-05 5.21492205e-05]\n",
      "The coefficients have a low variance across bootstrap samples, suggesting a more stable model.\n"
     ]
    }
   ],
   "source": [
    "from sklearn.preprocessing import PolynomialFeatures\n",
    "from sklearn.linear_model import LinearRegression\n",
    "from sklearn.utils import resample\n",
    "import numpy as np\n",
    "from sklearn.model_selection import train_test_split\n",
    "\n",
    "# Polynomial Features for Degree 4 Polynomial Regression\n",
    "poly_features_4 = PolynomialFeatures(degree=4)\n",
    "X_poly_4 = poly_features_4.fit_transform(X)\n",
    "\n",
    "# Splitting the polynomial data\n",
    "X_train_poly_4, X_test_poly_4, y_train, y_test = train_test_split(X_poly_4, y, test_size=0.2, random_state=42)\n",
    "\n",
    "# Define the number of bootstrap iterations\n",
    "n_iterations = 1000\n",
    "\n",
    "# Store coefficients from each bootstrap sample\n",
    "bootstrap_coeffs_poly_4 = np.zeros((n_iterations, X_train_poly_4.shape[1]))\n",
    "\n",
    "for i in range(n_iterations):\n",
    "    # Resample the data\n",
    "    X_train_boot, y_train_boot = resample(X_train_poly_4, y_train, random_state=i)\n",
    "    \n",
    "    # Fit the model\n",
    "    model_boot_poly_4 = LinearRegression()\n",
    "    model_boot_poly_4.fit(X_train_boot, y_train_boot)\n",
    "    \n",
    "    # Store the coefficients\n",
    "    bootstrap_coeffs_poly_4[i, :] = model_boot_poly_4.coef_\n",
    "\n",
    "# Compute mean and standard deviation of coefficients\n",
    "mean_coeff_bootstrap_poly_4 = np.mean(bootstrap_coeffs_poly_4, axis=0)\n",
    "std_coeff_bootstrap_poly_4 = np.std(bootstrap_coeffs_poly_4, axis=0)\n",
    "\n",
    "print(\"Bootstrapping for Degree 4 Polynomial Regression Beta Coefficients:\")\n",
    "print(f\"Mean of Coefficients:\\n{mean_coeff_bootstrap_poly_4}\")\n",
    "print(f\"Standard Deviation of Coefficients:\\n{std_coeff_bootstrap_poly_4}\")\n",
    "\n",
    "# Analyze coefficient stability\n",
    "mean_std_coeff_poly_4 = np.mean(std_coeff_bootstrap_poly_4)\n",
    "if mean_std_coeff_poly_4 > 0.01:\n",
    "    print(\"The coefficients have a high variance across bootstrap samples, indicating potential instability.\")\n",
    "else:\n",
    "    print(\"The coefficients have a low variance across bootstrap samples, suggesting a more stable model.\")\n"
   ]
  },
  {
   "cell_type": "markdown",
   "id": "c945e9e2-4c1a-4d03-8119-c61f598ba2a6",
   "metadata": {},
   "source": [
    "## Objective 3: Stability check using cross-validation"
   ]
  },
  {
   "cell_type": "markdown",
   "id": "645142f4-be2b-4b35-8cd6-23ce39b9f988",
   "metadata": {},
   "source": [
    "### Linear regression"
   ]
  },
  {
   "cell_type": "code",
   "execution_count": 62,
   "id": "15641a61-9253-4ecc-9366-987a14b773ad",
   "metadata": {},
   "outputs": [
    {
     "name": "stdout",
     "output_type": "stream",
     "text": [
      "Linear Regression Mean Cross-Validation Score: 27.074861730684404\n",
      "Linear Regression Standard Deviation of Cross-Validation Scores: 8.104499428289772\n"
     ]
    }
   ],
   "source": [
    "from sklearn.model_selection import cross_val_score\n",
    "\n",
    "# Cross-validation for Linear Regression\n",
    "cv_scores_linear = cross_val_score(model_linear, X, y, cv=5, scoring='neg_mean_squared_error')\n",
    "print(f\"Linear Regression Mean Cross-Validation Score: {-np.mean(cv_scores_linear)}\")\n",
    "print(f\"Linear Regression Standard Deviation of Cross-Validation Scores: {np.std(cv_scores_linear)}\")\n"
   ]
  },
  {
   "cell_type": "markdown",
   "id": "51b478e4-6d6a-4727-b8de-f6f2d936152a",
   "metadata": {},
   "source": [
    "### Polynomial regression of degree 2"
   ]
  },
  {
   "cell_type": "code",
   "execution_count": 63,
   "id": "d472cc08-14aa-4e34-8389-24d5006ade09",
   "metadata": {},
   "outputs": [
    {
     "name": "stdout",
     "output_type": "stream",
     "text": [
      "Degree 2 Polynomial Regression Mean Cross-Validation Score: 115.79739054043611\n",
      "Degree 2 Polynomial Regression Standard Deviation of Cross-Validation Scores: 91.70473668156518\n"
     ]
    }
   ],
   "source": [
    "# Cross-validation for Degree 2 Polynomial Regression\n",
    "cv_scores_poly_2 = cross_val_score(LinearRegression(), X_poly_2, y, cv=5, scoring='neg_mean_squared_error')\n",
    "print(f\"Degree 2 Polynomial Regression Mean Cross-Validation Score: {-np.mean(cv_scores_poly_2)}\")\n",
    "print(f\"Degree 2 Polynomial Regression Standard Deviation of Cross-Validation Scores: {np.std(cv_scores_poly_2)}\")\n"
   ]
  },
  {
   "cell_type": "markdown",
   "id": "b3897915-2d5d-46f2-8742-f9b3c0c65354",
   "metadata": {},
   "source": [
    "### Polynomial regression of degree 3"
   ]
  },
  {
   "cell_type": "code",
   "execution_count": 64,
   "id": "a0c6c490-5754-4d5f-a12b-22642374bab6",
   "metadata": {},
   "outputs": [
    {
     "name": "stdout",
     "output_type": "stream",
     "text": [
      "Degree 3 Polynomial Regression Mean Cross-Validation Score: 15544211.154158777\n",
      "Degree 3 Polynomial Regression Standard Deviation of Cross-Validation Scores: 12125689.796849558\n"
     ]
    }
   ],
   "source": [
    "# Cross-validation for Degree 3 Polynomial Regression\n",
    "cv_scores_poly_3 = cross_val_score(LinearRegression(), X_poly_3, y, cv=5, scoring='neg_mean_squared_error')\n",
    "print(f\"Degree 3 Polynomial Regression Mean Cross-Validation Score: {-np.mean(cv_scores_poly_3)}\")\n",
    "print(f\"Degree 3 Polynomial Regression Standard Deviation of Cross-Validation Scores: {np.std(cv_scores_poly_3)}\")\n"
   ]
  },
  {
   "cell_type": "markdown",
   "id": "52fcb9af-6208-4e92-adaa-68a98c012faa",
   "metadata": {},
   "source": [
    "### Polynomial regression of degree 4"
   ]
  },
  {
   "cell_type": "code",
   "execution_count": 65,
   "id": "cfd5cb62-b1dc-4be3-94b0-1fc5d044fbe8",
   "metadata": {},
   "outputs": [
    {
     "name": "stdout",
     "output_type": "stream",
     "text": [
      "Degree 4 Polynomial Regression Mean Cross-Validation Score: 936423.745849297\n",
      "Degree 4 Polynomial Regression Standard Deviation of Cross-Validation Scores: 1520304.0788731175\n"
     ]
    }
   ],
   "source": [
    "# Perform cross-validation for Degree 4 Polynomial Regression\n",
    "cv_scores_poly_4 = cross_val_score(LinearRegression(), X_poly_4, y, cv=5, scoring='neg_mean_squared_error')\n",
    "\n",
    "# Calculate Mean and Standard Deviation of Cross-Validation Scores\n",
    "mean_cv_score_poly_4 = -np.mean(cv_scores_poly_4)  # Negate the score to get the mean MSE\n",
    "std_cv_score_poly_4 = np.std(cv_scores_poly_4)  # Standard deviation of the MSE scores\n",
    "\n",
    "print(f\"Degree 4 Polynomial Regression Mean Cross-Validation Score: {mean_cv_score_poly_4}\")\n",
    "print(f\"Degree 4 Polynomial Regression Standard Deviation of Cross-Validation Scores: {std_cv_score_poly_4}\")\n"
   ]
  },
  {
   "cell_type": "markdown",
   "id": "ec6d5be5-e297-46f9-871f-bb0d81cb545f",
   "metadata": {},
   "source": [
    "# Interpretation of results"
   ]
  },
  {
   "cell_type": "markdown",
   "id": "979141b7-b4f3-4bd3-9108-b9397cf429f6",
   "metadata": {},
   "source": [
    "**High Standard Deviation**: If the standard deviation were much higher, it would indicate significant instability in the model's performance across different data subsets, potentially suggesting that the model is sensitive to the specific training data used.\n",
    "\n",
    "**Moderate Standard Deviation**: A standard deviation of 8.1045 is moderate, suggesting that while there is some fluctuation in the model's performance, it is not excessively unstable.\n",
    "\n",
    "**High Variance (> 0.01)**: Indicates potential instability and suggests that the model may overfit the data.\n",
    "\n",
    "**Low Variance (≤ 0.01)**: Suggests that the coefficients are stable, which indicates a more robust model."
   ]
  },
  {
   "cell_type": "markdown",
   "id": "26b6d9bd-db08-4532-9dd2-0e9c2a766001",
   "metadata": {},
   "source": [
    "From the above observations, it is clear that polynomial regression of degree 2 and linear regression are good models for the given dataset. If we combine the results with the values of R-square, we conclude that polynomial regression of degree 2 is the msot stable model for the given dataset.\n",
    "                                                                                                                    "
   ]
  },
  {
   "cell_type": "code",
   "execution_count": null,
   "id": "b670cc09-f3d0-4832-95e4-4bd7bc189daa",
   "metadata": {},
   "outputs": [],
   "source": []
  }
 ],
 "metadata": {
  "kernelspec": {
   "display_name": "Python 3 (ipykernel)",
   "language": "python",
   "name": "python3"
  },
  "language_info": {
   "codemirror_mode": {
    "name": "ipython",
    "version": 3
   },
   "file_extension": ".py",
   "mimetype": "text/x-python",
   "name": "python",
   "nbconvert_exporter": "python",
   "pygments_lexer": "ipython3",
   "version": "3.11.7"
  }
 },
 "nbformat": 4,
 "nbformat_minor": 5
}
